{
 "cells": [
  {
   "cell_type": "code",
   "execution_count": 44,
   "id": "c6c7e775",
   "metadata": {},
   "outputs": [],
   "source": [
    "from selenium import webdriver\n",
    "from time import sleep"
   ]
  },
  {
   "cell_type": "code",
   "execution_count": 45,
   "id": "2dc2998a",
   "metadata": {},
   "outputs": [],
   "source": [
    "path='Chrome Driver/'"
   ]
  },
  {
   "cell_type": "code",
   "execution_count": 46,
   "id": "ee6384d8",
   "metadata": {},
   "outputs": [
    {
     "name": "stderr",
     "output_type": "stream",
     "text": [
      "C:\\Users\\Pintoo\\AppData\\Local\\Temp\\ipykernel_23540\\3474279000.py:1: DeprecationWarning: executable_path has been deprecated, please pass in a Service object\n",
      "  browser=webdriver.Chrome(executable_path=path)\n"
     ]
    }
   ],
   "source": [
    "browser=webdriver.Chrome(executable_path=path)"
   ]
  },
  {
   "cell_type": "code",
   "execution_count": 51,
   "id": "a3f60e51",
   "metadata": {},
   "outputs": [],
   "source": [
    "browser.get('https://www.amazon.in')"
   ]
  },
  {
   "cell_type": "code",
   "execution_count": 48,
   "id": "306be3bb",
   "metadata": {},
   "outputs": [],
   "source": [
    "browser.maximize_window()"
   ]
  },
  {
   "cell_type": "code",
   "execution_count": 52,
   "id": "be04ee36",
   "metadata": {},
   "outputs": [],
   "source": [
    "# get the input elements\n",
    "input_search = browser.find_element(By.ID, 'twotabsearchtextbox')\n",
    "search_button = browser.find_element(By.XPATH, \"(//input[@type='submit'])[1]\")"
   ]
  },
  {
   "cell_type": "code",
   "execution_count": 53,
   "id": "44bf3c46",
   "metadata": {},
   "outputs": [],
   "source": [
    "# send the input to the webpage\n",
    "input_search.send_keys(\"Smartphones under 10000\")\n",
    "sleep(1)\n",
    "search_button.click()"
   ]
  },
  {
   "cell_type": "code",
   "execution_count": 54,
   "id": "8e3884e6",
   "metadata": {},
   "outputs": [
    {
     "name": "stdout",
     "output_type": "stream",
     "text": [
      "Scraping page 1\n",
      "Scraping page 2\n",
      "Scraping page 3\n",
      "Scraping page 4\n",
      "Scraping page 5\n",
      "Scraping page 6\n",
      "Scraping page 7\n",
      "Scraping page 8\n",
      "Scraping page 9\n",
      "Scraping page 10\n"
     ]
    }
   ],
   "source": [
    "products = []\n",
    "for i in range(10):\n",
    "    print('Scraping page', i+1)\n",
    "    product = browser.find_elements(By.XPATH, \"//span[@class='a-size-medium a-color-base a-text-normal']\")\n",
    "    for p in product:\n",
    "        products.append(p.text)\n",
    "    next_button = browser.find_element(By.XPATH, \"//a[text()='Next']\")\n",
    "    next_button.click()\n",
    "    sleep(2)"
   ]
  },
  {
   "cell_type": "code",
   "execution_count": 55,
   "id": "0c996087",
   "metadata": {},
   "outputs": [
    {
     "data": {
      "text/plain": [
       "176"
      ]
     },
     "execution_count": 55,
     "metadata": {},
     "output_type": "execute_result"
    }
   ],
   "source": [
    "len(products)"
   ]
  },
  {
   "cell_type": "code",
   "execution_count": 56,
   "id": "e9c3d257",
   "metadata": {},
   "outputs": [
    {
     "data": {
      "text/plain": [
       "['Samsung Galaxy M14 5G (Berry Blue, 4GB, 128GB Storage) | 50MP Triple Cam | 6000 mAh Battery | 5nm Octa-Core Processor | Android 13 | Without Charger',\n",
       " 'Samsung Galaxy M34 5G (Prism Silver, 8GB, 128GB Storage) | 120Hz sAMOLED Display | 50MP Triple No Shake Cam | 6000 mAh Battery | 16GB RAM with RAM Plus | Android 13 | Without Charger',\n",
       " 'Redmi A2 (Aqua Blue, 2GB RAM, 32GB Storage) | Powerful Octa Core G36 Processor | Upto 7GB RAM | Large 16.5 cm HD+ Display with Massive 5000mAh Battery | 2 Years Warranty [Limited time Offer]',\n",
       " 'Redmi A2 (Sea Green, 2GB RAM, 32GB Storage) | Powerful Octa Core G36 Processor | Upto 7GB RAM | Large 16.5 cm HD+ Display with Massive 5000mAh Battery | 2 Years Warranty [Limited time Offer]',\n",
       " 'Samsung Galaxy M04 Dark Blue, 4GB RAM, 128GB Storage | Upto 8GB RAM with RAM Plus | MediaTek Helio P35 Octa-core Processor | 5000 mAh Battery | 13MP Dual Camera']"
      ]
     },
     "execution_count": 56,
     "metadata": {},
     "output_type": "execute_result"
    }
   ],
   "source": [
    "products[:5]"
   ]
  },
  {
   "cell_type": "code",
   "execution_count": 57,
   "id": "4278e75d",
   "metadata": {},
   "outputs": [
    {
     "name": "stdout",
     "output_type": "stream",
     "text": [
      "Scraped data saved to Scraping page.txt\n"
     ]
    }
   ],
   "source": [
    "output_file = 'Scraping page.txt'\n",
    "with open(output_file, 'w') as file:\n",
    "    for product in products:\n",
    "        file.write(product + '\\n')\n",
    "\n",
    "print('Scraped data saved to', output_file)"
   ]
  },
  {
   "cell_type": "code",
   "execution_count": 60,
   "id": "3b7d3688",
   "metadata": {},
   "outputs": [
    {
     "name": "stdout",
     "output_type": "stream",
     "text": [
      "Samsung Galaxy M14 5G (Berry Blue, 4GB, 128GB Storage) | 50MP Triple Cam | 6000 mAh Battery | 5nm Octa-Core Processor | Android 13 | Without Charger\n",
      "Samsung Galaxy M34 5G (Prism Silver, 8GB, 128GB Storage) | 120Hz sAMOLED Display | 50MP Triple No Shake Cam | 6000 mAh Battery | 16GB RAM with RAM Plus | Android 13 | Without Charger\n",
      "Redmi A2 (Aqua Blue, 2GB RAM, 32GB Storage) | Powerful Octa Core G36 Processor | Upto 7GB RAM | Large 16.5 cm HD+ Display with Massive 5000mAh Battery | 2 Years Warranty [Limited time Offer]\n",
      "Redmi A2 (Sea Green, 2GB RAM, 32GB Storage) | Powerful Octa Core G36 Processor | Upto 7GB RAM | Large 16.5 cm HD+ Display with Massive 5000mAh Battery | 2 Years Warranty [Limited time Offer]\n",
      "Samsung Galaxy M04 Dark Blue, 4GB RAM, 128GB Storage | Upto 8GB RAM with RAM Plus | MediaTek Helio P35 Octa-core Processor | 5000 mAh Battery | 13MP Dual Camera\n",
      "Itel S23 (8GB RAM + 128GB ROM, Up to 16GB RAM with Memory Fusion | 50MP AI Dual Rear Camera | 5000mAh Battery with Type-C Charging | 90 Hz Display) - Mystery White\n",
      "Redmi 11 Prime (Peppy Purple, 4GB RAM 64GB ROM) | Prime Design | High Performance Helio G99 | 50 MP AI Triple Cam | 5000 mAh | 22.5W\n",
      "Redmi 12C (Lavender Purple, 4GB RAM, 64GB Storage) | High Performance Mediatek Helio G85 | Big 17cm(6.71) HD+ Display with 5000mAh(typ) Battery\n",
      "Redmi A2 (Aqua Blue, 4GB RAM, 64GB Storage) | Powerful Octa Core G36 Processor | Upto 7GB RAM | Large 16.5 cm HD+ Display with Massive 5000mAh Battery | 2 Years Warranty [Limited time Offer]\n",
      "Redmi 12C (Royal Blue, 4GB RAM, 128GB Storage)\n",
      "realme narzo 50i Prime (Dark Blue 4GB RAM+64GB Storage) Octa-core Processor | 5000 mAh Battery\n",
      "IKALL S1 Smartphone (6GB Ram + 6GB Virtual Ram, 128GB Internal Storage, Triple Camera) (Purple)\n",
      "Lava Yuva 2 Pro (Glass Lavender, 4GB RAM, 64GB Storage)| 2.3 Ghz Octa Core Helio G37| 13 MP AI Triple Camera |Fingerprint Sensor| 5000 mAh Battery| Upto 7GB Expandable RAM\n",
      "Vivo Y02t (Sunset Gold, 4GB RAM, 64GB Storage) with No Cost EMI/Additional Exchange Offers\n",
      "Samsung Galaxy M04 Light Green, 4GB RAM, 128GB Storage | Upto 8GB RAM with RAM Plus | MediaTek Helio P35 Octa-core Processor | 5000 mAh Battery | 13MP Dual Camera\n",
      "Redmi 12C (Mint Green, 4GB RAM, 64GB Storage) | High Performance Mediatek Helio G85 | Big 17cm(6.71) HD+ Display with 5000mAh(typ) Battery\n",
      "realme narzo N53 (Feather Gold, 4GB+64GB) 33W Segment Fastest Charging | Slimmest Phone in Segment | 90 Hz Smooth Display\n",
      "Nokia C22 | 3-Day Battery Life | 6GB RAM (4GB RAM + 2GB Virtual RAM) | 13 MP Dual Rear AI Camera with Night & Portrait Mode | IP52 | Purple\n",
      "Redmi 11 Prime (Playful Green, 4GB RAM, 64GB Storage) | Prime Design | High Performance Helio G99 | 50 MP AI Triple Cam | 5000 mAh | 22.5W\n",
      "realme narzo 50i Prime (Dark Blue 3 GB RAM +32 GB Storage) Octa-core Processor | 5000 mAh Battery\n",
      "realme narzo N53 (Feather Black, 4GB+64GB) 33W Segment Fastest Charging | Slimmest Phone in Segment | 90 Hz Smooth Display\n",
      "Itel A60s (4GB RAM + 64GB ROM, Up to 8GB RAM with Memory Fusion | 8MP AI Rear Camera | 5000mAh Battery with 10W Charging | Faceunlock & Fingerprint -Shadow Black\n",
      "Lava Blaze 5G (Glass Blue, 4GB RAM, UFS 2.2 128GB Storage) | 5G Ready | 50MP AI Triple Camera | Upto 7GB Expandable RAM | Charger Included | Clean Android (No Bloatware)\n",
      "Samsung Galaxy M34 5G (Waterfall Blue, 8GB, 128GB Storage) | 120Hz sAMOLED Display | 50MP Triple No Shake Cam | 6000 mAh Battery | 16GB RAM with RAM Plus | Android 13 | Without Charger\n",
      "Itel A60s (4GB RAM + 64GB ROM, Up to 8GB RAM with Memory Fusion | 8MP AI Rear Camera | 5000mAh Battery with 10W Charging | Faceunlock & Fingerprint -Glacier Green\n",
      "Nokia C12 Android 12 (Go Edition) Smartphone, All-Day Battery, 4GB RAM (2GB RAM + 2GB Virtual RAM) + 64GB Capacity | Light Mint\n",
      "realme narzo 50i Prime (Mint Green 4GB RAM+64GB Storage) Octa-core Processor |5000 mAh Battery\n",
      "Redmi A2+ (Aqua Blue, 4GB RAM, 64GB Storage) | Upto 7GB RAM | Octa Core Processor | Fingerprint Scanner | 2 Years Warranty [Limited time Offer]\n",
      "TECNO Camon 19 Neo (Dreamland Green, 6GB RAM, 128GB Storage)|48MP Super Night Rear Camera|32MP Selfie Camera\n",
      "realme narzo 50i (Carbon Black, 2GB RAM+32GB Storage) Octa Core Processor | 6.5\" inch Large Display\n",
      "Redmi A2 (Classic Black, 4GB RAM, 64GB Storage) | Powerful Octa Core G36 Processor | Upto 7GB RAM | Large 16.5 cm HD+ Display with Massive 5000mAh Battery | 2 Years Warranty [Limited time Offer]\n",
      "Nokia C22 | 3-Day Battery Life | 6GB RAM (4GB RAM + 2GB Virtual RAM) | 13 MP Dual Rear AI Camera with Night & Portrait Mode | IP52 | Sand\n",
      "Redmi 9 Activ (Carbon Black, 4GB RAM, 64GB Storage) | Octa-core Helio G35 | 5000 mAh Battery\n",
      "IKALL S1 Smartphone (6.8\" Display, 6GB, 128GB) | 6000 mAh Battery | Upto 12GB Ram with Virtual Ram (Purple)\n",
      "Lava Yuva 2 Pro (Glass Green, 4GB RAM, 64GB Storage)| 2.3 Ghz Octa Core Helio G37| 13 MP AI Triple Camera |Fingerprint Sensor| 5000 mAh Battery| Upto 7GB Expandable RAM\n",
      "Redmi 12C (Mint Green, 4GB RAM, 128GB Storage)\n",
      "Redmi A2 (Sea Green, 4GB RAM, 64GB Storage) | Powerful Octa Core G36 Processor | Upto 7GB RAM | Large 16.5 cm HD+ Display with Massive 5000mAh Battery | 2 Years Warranty [Limited time Offer]\n",
      "Nokia C22 | 3-Day Battery Life | 6GB RAM (4GB RAM + 2GB Virtual RAM) | 13 MP Dual Rear AI Camera with Night & Portrait Mode | IP52 | Charcoal\n",
      "TECNO Spark 9 (Infinity Black, 4GB RAM,64GB Storage) | 7GB Expandable RAM | Helio G37 Gaming Processor\n",
      "TECNO Spark 8 Pro (Interstellar Black, 4GB RAM,64GB Storage) | 48MP Triple Camera | 33W Fast Charger\n",
      "Lava Blaze 2 (6GB RAM, 128GB Storage) - Glass Blue | 18W Fast Charging | 6.5 inch 90Hz Punch Hole Display | Side Fingerprint Sensor | Upto 11GB Expandable RAM | 5000 mAh Battery\n",
      "Samsung Galaxy M04 Light Green, 4GB RAM, 64GB Storage | Upto 8GB RAM with RAM Plus | MediaTek Helio P35 Octa-core Processor | 5000 mAh Battery | 13MP Dual Camera\n",
      "Samsung Galaxy M04 Dark Blue, 4GB RAM, 64GB Storage | Upto 8GB RAM with RAM Plus | MediaTek Helio P35 Octa-core Processor | 5000 mAh Battery | 13MP Dual Camera\n",
      "TECNO Phantom V Fold 5G Black (12GB RAM,256GB Storage) | The First Full Size Fold | LTPO AMOLED Display | 4nm D9000+ Fast Processor\n",
      "IKALL S1 Smartphone (6.8 Inch, 6GB, 128GB) (Triple Rear Camera) (Blue)\n",
      "IKALL S1 Smartphone (6.8\" Display, 6GB, 128GB) | 6000 mAh Battery | Upto 12GB Ram with Virtual Ram (Blue)\n",
      "Itel A60s (4GB RAM + 64GB ROM, Up to 8GB RAM with Memory Fusion | 8MP AI Rear Camera | 5000mAh Battery with 10W Charging | Faceunlock & Fingerprint - Moonlit Violet\n",
      "realme narzo 50i (Carbon Black, 4GB RAM+64GB Storage) Octa Core Processor | 6.5\" inch Large Display\n",
      "Itel S23 (8GB RAM + 128GB ROM, Up to 16GB RAM with Memory Fusion | 50MP AI Dual Rear Camera | 5000mAh Battery with Type-C Charging | 90 Hz Display) - Mystery White\n",
      "Nokia C12 Pro Android Smartphone, Dual SIM, All Day Battery Life, 6GB RAM, 4GB RAM + 2GB Virtual RAM, Android 12 Go Edition | Charcoal\n",
      "Vivo Y02t (Cosmic Grey, 4GB RAM, 64GB Storage) with No Cost EMI/Additional Exchange Offers\n",
      "Redmi New 3 (Light Blue, 2GB RAM, 32GB Storage)\n",
      "Redmi A2 (Aqua Blue, 2GB RAM, 64GB Storage)\n",
      "Redmi 10A (Charcoal Black, 4GB RAM, 64GB Storage) | 2 Ghz Octa Core Helio G25 | 5000 mAh Battery | Finger Print Sensor | Upto 5GB RAM with RAM Booster\n",
      "Itel A60s (4GB RAM + 64GB ROM, Up to 8GB RAM with Memory Fusion | 8MP AI Rear Camera | 5000mAh Battery with 10W Charging | Faceunlock & Fingerprint -Glacier Green\n",
      "Nokia C32 with 50MP Dual Rear AI Camera | Toughened Glass Back | 4GB RAM, 128GB Storage | Upto 7GB RAM with RAM Extension | 5000 mAh Battery | 1 Year Replacement Warranty | Android 13 | Pink\n",
      "Redmi A2 (Classic Black, 2GB RAM, 64GB Storage)\n",
      "Nokia C12 Android 12 (Go Edition) Smartphone, All-Day Battery, 4GB RAM (2GB RAM + 2GB Virtual RAM) + 64GB Capacity | Charcoal\n",
      "Nokia C12 Android 12 (Go Edition) Smartphone, All-Day Battery, 4GB RAM (2GB RAM + 2GB Virtual RAM) + 64GB Capacity | Dark Cyan\n",
      "TECNO Spark 8T (Atlantic Blue, 4GB RAM,64GB Storage)| 50MP AI Camera | 7GB Expandable RAM\n",
      "Redmi 12C (Lavender Purple, 4GB RAM, 128GB Storage)\n",
      "Itel A60s (4GB RAM + 64GB ROM, Up to 8GB RAM with Memory Fusion | 8MP AI Rear Camera | 5000mAh Battery with 10W Charging | Faceunlock & Fingerprint - Moonlit Violet\n",
      "Itel S23 (8GB RAM + 128GB ROM, Up to 16GB RAM with Memory Fusion | 50MP AI Dual Rear Camera | 5000mAh Battery with Type-C Charging | 90 Hz Display) - Starry Black\n",
      "Lava Blaze 2 (6GB RAM, 128GB Storage) - Glass Orange | 18W Fast Charging | 6.5 inch 90Hz Punch Hole Display | Side Fingerprint Sensor | Upto 11GB Expandable RAM | 5000 mAh Battery\n",
      "Itel A60s (4GB RAM + 64GB ROM, Up to 8GB RAM with Memory Fusion | 8MP AI Rear Camera | 5000mAh Battery with 10W Charging | Faceunlock & Fingerprint -Shadow Black\n",
      "Lava Yuva 2 Pro (Glass Lavender, 4GB RAM, 64GB Storage)| 2.3 Ghz Octa Core Helio G37| 13 MP AI Triple Camera |Fingerprint Sensor| 5000 mAh Battery| Upto 7GB Expandable RAM\n",
      "TECNO Spark 9T (Iris Purple, 4GB RAM,64GB Storage) | 50MP SuperNight Triple Camera | 18W Flash Charger\n",
      "Redmi A2 (Classic Black, 2GB RAM, 32GB Storage) | Powerful Octa Core G36 Processor | Upto 7GB RAM | Large 16.5 cm HD+ Display with Massive 5000mAh Battery | 2 Years Warranty [Limited time Offer]\n",
      "Oppo A17k (Navy Blue, 3GB RAM, 64GB Storage) with No Cost EMI/Additional Exchange Offers\n",
      "Redmi 9 (Sky Blue, 4GB RAM, 64GB Storage) | 2.3GHz Mediatek Helio G35 Octa core Processor\n",
      "Motorola E7 Power (Tahiti Blue, 64 GB) (4 GB RAM)\n",
      "(Renewed) Itel S23 (8GB RAM + 128GB ROM, Up to 16GB RAM with Memory Fusion | 50MP AI Dual Rear Camera | 5000mAh Battery with Type-C Charging | 90 Hz Display) - Mystery White\n",
      "Redmi A2 (Sea Green, 2GB RAM, 64GB Storage)\n",
      "Nokia C32 with 50MP Dual Rear AI Camera | Toughened Glass Back | 4GB RAM, 128GB Storage | Upto 7GB RAM with RAM Extension | 5000 mAh Battery | 1 Year Replacement Warranty | Android 13 | Mint\n",
      "Samsung Galaxy A04e (Copper, 3GB, 64GB Storage) | 13 MP Rear Camera| Face Unlock | Upto 7GB RAM with RAM Plus | MediaTek Helio P35 | 5000 mAh Battery\n",
      "Nokia 2660 Flip 4G Volte keypad Phone with Dual SIM, Dual Screen, inbuilt MP3 Player & Wireless FM Radio | Black\n",
      "Itel P40+ (4GB RAM+128GB ROM, 8GB* RAM with Memory Fusion | 13MP AI Rear Camera | 7000mAh Battery with 18W Fast Charging | 6.8\" HD+ IPS Punch Hole 90Hz Diplay | Faceunlock & Fingerprint - Ice Cyan\n",
      "Redmi 11 Prime (Flashy Black, 4GB RAM, 64GB Storage) | Prime Design | High Performance Helio G99 | 50 MP AI Triple Cam | 5000 mAh | 22.5W\n",
      "Nokia C12 Pro Android Smartphone, Dual SIM, All Day Battery Life, 4GB RAM, 2GB RAM + 2GB Virtual RAM, Android 12 Go Edition | Mint\n",
      "TECNO Spark 10C (Meta Blue,8GB RAM,128GB Storage)|16GB Expandable RAM |90Hz Refresh Rate 6.56\" HD+Dot Display|16MP AI Dual Rear Camera\n",
      "Samsung Galaxy A04e (Light Blue, 3GB, 64GB Storage) | 13 MP Rear Camera | Face Unlock | Upto 7GB RAM with RAM Plus | MediaTek Helio P35 | 5000 mAh Battery\n",
      "Redmi 12C (Matte Black, 4GB RAM, 64GB Storage) | High Performance Mediatek Helio G85 | Big 17cm(6.71) HD+ Display with 5000mAh(typ) Battery\n",
      "IKALL Z3 Smartphone (6.26 Inch, 4GB, 64GB) (Aquamarine)\n",
      "Nokia C22 | 3-Day Battery Life | 4GB RAM (2GB RAM + 2GB Virtual RAM) | 13 MP Dual Rear AI Camera with Night & Portrait Mode | IP52 | Charcoal\n",
      "Infinix HOT 30i (Mirror Black, 8GB RAM 128GB Storage)\n",
      "Nokia 2.1 (Blue-Copper)\n",
      "IKALL Z1 4G Smartphone with 5.5 Inch IPS Display (Dual SIM, 3GB RAM + 32GB Storage) (Grey)\n",
      "Nokia C32 with 50MP Dual Rear AI Camera | Toughened Glass Back | 4GB RAM, 128GB Storage | Upto 7GB RAM with RAM Extension | 5000 mAh Battery | 1 Year Replacement Warranty | Android 13 | Charcoal\n",
      "Nokia C22 | 3-Day Battery Life | 4GB RAM (2GB RAM + 2GB Virtual RAM) | 13 MP Dual Rear AI Camera with Night & Portrait Mode | IP52 | Purple\n",
      "Nokia C22 | 3-Day Battery Life | 4GB RAM (2GB RAM + 2GB Virtual RAM) | 13 MP Dual Rear AI Camera with Night & Portrait Mode | IP52 | Sand\n",
      "Lava Blaze 2 (6 GB RAM, UFS 2.2 128GB Storage) - Glass Black|18W Fast Charger|Side Fingerprint Sensor| 5000 mAh Battery| 6.5 inch(16.5cm) HD+ Punch Hole Display| Upto 11GB Expandable RAM\n",
      "Motorola e40 (Carbon Gray, 4GB RAM 64GB Storage)\n",
      "Redmi 9A (Nature Green, 2GB RAM, 32GB Storage) | 2GHz Octa-core Helio G25 Processor | 5000 mAh Battery\n",
      "Itel P40 (6000mAh Battery with Fast Charging | 2GB RAM + 64GB ROM, Up to 4GB RAM with Memory Fusion | Octa-core Processor | 13MP AI Dual Rear Camera) - Dreamy Blue\n",
      "Itel P40+ (4GB RAM+128GB ROM, 8GB* RAM with Memory Fusion | 13MP AI Rear Camera | 7000mAh Battery with 18W Fast Charging | 6.8\" HD+ IPS Punch Hole 90Hz Diplay | Faceunlock & Fingerprint - Force Black\n",
      "Samsung Galaxy M34 5G (Midnight Blue, 8GB, 128GB Storage) | 120Hz sAMOLED Display | 50MP Triple No Shake Cam | 6000 mAh Battery | 16GB RAM with RAM Plus | Android 13 | Without Charger\n",
      "IKALL Z19 Pro Smartphone (6.5\" HD+ Display, 4GB, 64GB) (Champagne)\n",
      "IKALL S1 Smartphone (6.8\" Display, 6GB, 128GB) | 6000 mAh Battery | Upto 12GB Ram with Virtual Ram (Blue)\n",
      "TECNO POP 7 Pro (Endless Black, 2GB RAM,64GB Storage) | Type C Port | 12MP Dual Camera | Up to 4GB RAM with Memory Fusion\n",
      "Micromax in 2C (Silver, 32 GB)  (3 GB RAM)\n",
      "Nokia G11 Android 12 Smartphone, Dual SIM, 3-Day Battery Life, 4GB RAM + 64GB Storage, 50MP Dual AI Camera | Charcoal Grey\n",
      "Redmi 9A Sport (Carbon Black, 2GB RAM, 32GB Storage) | 2GHz Octa-core Helio G25 Processor | 5000 mAh Battery\n",
      "Redmi A2+ (Classic Black, 4GB RAM, 64GB Storage) | Upto 7GB RAM | Octa Core Processor | Fingerprint Scanner | 2 Years Warranty [Limited time Offer]\n",
      "(Renewed) Nokia C12 Android 12 (Go Edition) Smartphone, All-Day Battery, 4GB RAM (2GB RAM + 2GB Virtual RAM) + 64GB Capacity | Light Mint\n",
      "Itel P40 (6000mAh Battery with Fast Charging | 2GB RAM + 64GB ROM, Up to 4GB RAM with Memory Fusion | Octa-core Processor | 13MP AI Dual Rear Camera) - Luxurious Gold\n",
      "Oppo A17k (Blue, 3GB RAM, 64GB Storage) with No Cost EMI/Additional Exchange Offers\n",
      "IKALL Z1 4G Smartphone with 5.5 Inch IPS Display (Dual SIM, 3GB RAM + 32GB Storage) (Blue)\n",
      "realme narzo 50i (Mint Green, 2GB RAM+32GB Storage) Octa Core Processor | 6.5\" inch Large Display\n",
      "Nokia C01 Plus 4G, 5.45” HD+ Screen, Selfie Camera with Front Flash | 32GB Storage (Blue)\n",
      "TECNO Camon 19 Neo (Ice Mirror, 6GB RAM, 128GB Storage)|48MP Super Night Rear Camera|32MP Selfie Camera\n",
      "Nokia C12 Pro Android Smartphone, Dual SIM, All Day Battery Life, 6GB RAM, 4GB RAM + 2GB Virtual RAM, Android 12 Go Edition | Purple\n",
      "Redmi A2+ (Sea Green, 4GB RAM, 64GB Storage) | Upto 7GB RAM | Octa Core Processor | Fingerprint Scanner | 2 Years Warranty [Limited time Offer]\n",
      "IKALL Z19 Pro Ultra Smartphone (6GB, 128GB) | 6.5 Inch HD+ Display | Fast Charging (Blue)\n",
      "Lava X2 (2GB RAM, 32GB Storage) - Striped Blue| Long Lasting 5000 mAh Battery| High Performance Octa Core Processor| Big 6.5 inch(16.5cm) Display HD+IPS Notch Display\n",
      "Redmi 12C (Royal Blue, 4GB RAM, 64GB Storage) | High Performance Mediatek Helio G85 | Big 17cm(6.71) HD+ Display with 5000mAh(typ) Battery\n",
      "SHIVANSH LYF Water 7S (3GB RAM, 16 GB Storage) 4G4G Smartphone for JIO All 4G SIM Support(Color Depend on Stock)\n",
      "realme C11(2021) (Cool Grey, 2GB RAM, 32GB Storage) Without Offers\n",
      "POCO C55 (Forest Green, 128 GB) (6 GB RAM)\n",
      "Itel P40 (6000mAh Battery with Fast Charging | 2GB RAM + 64GB ROM, Up to 4GB RAM with Memory Fusion | Octa-core Processor | 13MP AI Dual Rear Camera) - Force Black\n",
      "(Renewed) Redmi 12C (Royal Blue, 4GB RAM, 64GB Storage) | High Performance Mediatek Helio G85 | Big 17cm(6.71) HD+ Display with 5000mAh(typ) Battery\n",
      "(Renewed) Nokia C12 Pro Android Smartphone, Dual SIM, All Day Battery Life, 6GB RAM, 4GB RAM + 2GB Virtual RAM, Android 12 Go Edition | Charcoal\n",
      "POCO C50 (Royal Blue, 32 GB)  (2 GB RAM)\n",
      "IKALL Z2 Smartphone (6.26 Inch HD+ Display, 4GB, 64GB) (Aquamarine)\n",
      "Lava X2 (2GB RAM, 32GB Storage) - Striped Cyan| Long Lasting 5000 mAh Battery| High Performance Octa Core Processor| Big 6.5 inch(16.5cm) Display HD+IPS Notch Display\n",
      "IKALL S1 Smartphone (6GB Ram + 6GB Virtual Ram, 128GB Internal Storage, Triple Camera) (Purple)\n",
      "IKALL K470 Smartphone (6.26\" HD+ Display, 4GB, 64GB) (Sky Blue)\n",
      "Anik MOTOROLA4g E22s (Eco Black, 4GB RAM, 64GB Storage)\n",
      "(Renewed) Nokia C12 Android 12 (Go Edition) Smartphone, All-Day Battery, 4GB RAM (2GB RAM + 2GB Virtual RAM) + 64GB Capacity | Dark Cyan\n",
      "IKALL Z18 Smartphone (6.5 HD Display, 6GB Ram, 128GB Storage) (Champagne)\n",
      "Infinix HOT 30i (Glacier Blue, 8GB RAM 128GB Storage)\n",
      "Nokia C12 Pro Android Smartphone, Dual SIM, All Day Battery Life, 4GB RAM, 2GB RAM + 2GB Virtual RAM, Android 12 Go Edition | Charcoal\n",
      "MI Poco M2 Pro (Out of The Blue, 4GB RAM, 64GB Storage)\n",
      "Motorola 4g E22s (Eco Black, 4GB RAM, 64GB Storage)\n",
      "IKALL Z12 4G Smartphone with 4GB RAM, 64 Internal Memory (6.53 Inch HD+ Display) (Jude Green)\n",
      "IKALL S1 Smartphone (6.8\" Display, 6GB, 128GB) | 6000 mAh Battery | Upto 12GB Ram with Virtual Ram (Purple)\n",
      "Infinix Hot 12 Pro (Halo White, 6GB RAM 64GB Storage)\n",
      "TECNO Spark 9T (Atlantic Blue, 4GB RAM,64GB Storage) | 50MP SuperNight Triple Camera | 18W Flash Charger\n",
      "Poco C51 (Power Black, 64 GB) (4 GB RAM)\n",
      "(Renewed) Realme Narzo 50i Prime (Dark Blue,3GB RAM, 32GB Storage)\n",
      "Nokia C31, 6.74” HD+ Display, 13+2+2 MP Rear & 5MP Front Google Camera, 3-Day Battery Life, Android 12 | Mint, 4+64GB\n",
      "Poco C51 (Royal Blue, 64 GB) (4 GB RAM)\n",
      "Micromax in 2B (Blue, 4GB RAM, 64GB Storage)\n",
      "(Renewed) OnePlus 6 (Mirror Black, 6GB RAM,64GB)\n",
      "Nokia C12 Pro Android Smartphone, Dual SIM, All Day Battery Life, 6GB RAM, 4GB RAM + 2GB Virtual RAM, Android 12 Go Edition | Mint\n",
      "IKALL K450 Smartphone (6.26\" Display, 4GB, 64GB, Android 10) (Dark Blue)\n",
      "Infinix Hot 12 Pro (Electric Blue, 6GB RAM 64GB Storage)\n",
      "Nokia C12 Pro Android Smartphone, Dual SIM, All Day Battery Life, 4GB RAM, 2GB RAM + 2GB Virtual RAM, Android 12 Go Edition | Cyan\n",
      "IKALL K450 Smartphone (6.26\" Display, 4GB, 64GB, Android 10) (Cyan)\n",
      "Infinix HOT 30i (Glacier Blue, 8GB RAM 128GB Storage)\n",
      "jio Phone Next | jio Smartphone | jio Mobile | jiophone Next | jio Smart Phone | 2GB RAM 32GB ROM\n",
      "(Renewed) realme narzo 50i (Mint Green, 2GB RAM+32GB Storage) - 6.5\" inch Large Display | 5000mAh Ba\n",
      "IKALL Z19 Pro Ultra Smartphone (6.5 Inch HD+ Display, 6GB, 128GB) (Gold)\n",
      "Lava Yuva 2 Pro (Glass Green, 4GB RAM, 64GB Storage)| 2.3 Ghz Octa Core Helio G37| 13 MP AI Triple Camera |Fingerprint Sensor| 5000 mAh Battery| Upto 7GB Expandable RAM\n",
      "Nokia C21 Plus Android Smartphone, Dual SIM, 3-Day Battery Life, 4GB RAM + 64GB Storage, 13MP Dual Camera with HDR | Warm Grey\n",
      "JioFi Jio Phone Next 32 GB ROM, 2 GB RAM, Blue, Smartphone\n",
      "Itel A60 (6.6 inch HD+ IPS Waterdrop Display | 5000mAh Battery | Fingerprint Sensor) - Dawn Blue\n",
      "(Renewed) realme narzo 50i (Carbon Black, 4GB RAM+64GB Storage) - 6.5\" inch Large Display | 5000mAh\n",
      "(Renewed) Nokia C21 Plus Android Smartphone, Dual SIM, 3-Day Battery Life, 4GB RAM + 64GB Storage, 1\n",
      "Infinix Smart 7 (64 GB) (4 GB RAM) (Azure Blue)\n",
      "IKALL Z14 4G Smartphone with 6.82 Inch HD+ Display (Android 10.0, 4GB RAM + 64GB Storage) (Grey)\n",
      "(Renewed) Lava Blaze 2 (6GB RAM, 128GB Storage) - Glass Blue | 18W Fast Charging | 6.5 inch 90Hz Pun\n",
      "(Renewed) Nokia C12 Android 12 (Go Edition) Smartphone, All-Day Battery, 4GB RAM (2GB RAM + 2GB Virt\n",
      "POCO C55 (Power Black, 128 GB) (6 GB RAM)\n",
      "Maplin Model Moto-E4 (Imported) 3GB / 32 GB with 13 Mpx Rear Camera and 5 Mpx Front Camera with 5000 mAh Battery (Gold)\n",
      "POCO C55 (Cool Blue, 64 GB) (4 GB RAM)\n",
      "IKALL Z10 4G Smartphone with 6.53 Inch HD+ Display (4GB RAM, 64GB Stoarge) (Grey)\n",
      "I KALL Z19 Pro Smartphone (6.5\" HD+ Display, 4GB, 64GB) (Blue)\n",
      "IKALL Z19 Pro Smartphone (6.5\" HD+ Display, 4GB. 64GB) (Octa Core 1.6 Ghz Processor)\n",
      "Poco C51 16.56 cm (6.52 inch) HD+Display 8MP Rear Camera | 5MP Front Camera | Helio G36 Processor | Memory Expandable Upto 1TB | 5000 mAh Battery (64,Power Black,4GB)\n",
      "IKALL Z15 4G Smartphone with 6.82 Inch HD+ Display (4GB RAM, 64GB Storage) (Sky Blue)\n",
      "Lava Z3 Striped Blue (3GB RAM, 32GB Storage)\n",
      "(Renewed) Nokia G11 Android 12 Smartphone, Dual SIM, 3-Day Battery Life, 4GB RAM + 64GB Storage, 50M\n",
      "TECNO Spark 10C (Meta Black,8GB RAM,128GB Storage)|16GB Expandable RAM |90Hz Refresh Rate 6.56\" HD+Dot Display|16MP AI Dual Rear Camera\n",
      "IKALL Z11 4G Smartphone with 6.53 Inch HD+ Display (4GB RAM, Android 10.0) (Cyan)\n",
      "Infinix HOT 30i | 5000 mAh Battery | 50MP AI Camera | 90Hz Refresh Rate | Fingerprint Sensor | Dual Sim (Glacier Blue, 8GB RAM 128GB Storage)\n",
      "Micromax in 2C (Brown, 32 GB)  (3 GB RAM)\n"
     ]
    }
   ],
   "source": [
    "# Specify the path to the saved file\n",
    "input_file = 'scraping page.txt'\n",
    "\n",
    "# Read the contents of the file\n",
    "with open(input_file, 'r') as file:\n",
    "    lines = file.readlines()\n",
    "\n",
    "# Process the read lines (e.g., print them)\n",
    "for line in lines:\n",
    "    print(line.strip())  # strip() removes the newline character\n",
    "\n",
    "# Alternatively, you can store the read lines in a list for further processing\n",
    "# scraped_data = [line.strip() for line in lines]\n"
   ]
  },
  {
   "cell_type": "code",
   "execution_count": 62,
   "id": "ff1cf82e",
   "metadata": {},
   "outputs": [],
   "source": [
    "scraped_data = [line.strip() for line in lines]"
   ]
  },
  {
   "cell_type": "code",
   "execution_count": 63,
   "id": "bfdf9a11",
   "metadata": {},
   "outputs": [
    {
     "name": "stdout",
     "output_type": "stream",
     "text": [
      "['Samsung Galaxy M14 5G (Berry Blue, 4GB, 128GB Storage) | 50MP Triple Cam | 6000 mAh Battery | 5nm Octa-Core Processor | Android 13 | Without Charger', 'Samsung Galaxy M34 5G (Prism Silver, 8GB, 128GB Storage) | 120Hz sAMOLED Display | 50MP Triple No Shake Cam | 6000 mAh Battery | 16GB RAM with RAM Plus | Android 13 | Without Charger', 'Redmi A2 (Aqua Blue, 2GB RAM, 32GB Storage) | Powerful Octa Core G36 Processor | Upto 7GB RAM | Large 16.5 cm HD+ Display with Massive 5000mAh Battery | 2 Years Warranty [Limited time Offer]', 'Redmi A2 (Sea Green, 2GB RAM, 32GB Storage) | Powerful Octa Core G36 Processor | Upto 7GB RAM | Large 16.5 cm HD+ Display with Massive 5000mAh Battery | 2 Years Warranty [Limited time Offer]', 'Samsung Galaxy M04 Dark Blue, 4GB RAM, 128GB Storage | Upto 8GB RAM with RAM Plus | MediaTek Helio P35 Octa-core Processor | 5000 mAh Battery | 13MP Dual Camera', 'Itel S23 (8GB RAM + 128GB ROM, Up to 16GB RAM with Memory Fusion | 50MP AI Dual Rear Camera | 5000mAh Battery with Type-C Charging | 90 Hz Display) - Mystery White', 'Redmi 11 Prime (Peppy Purple, 4GB RAM 64GB ROM) | Prime Design | High Performance Helio G99 | 50 MP AI Triple Cam | 5000 mAh | 22.5W', 'Redmi 12C (Lavender Purple, 4GB RAM, 64GB Storage) | High Performance Mediatek Helio G85 | Big 17cm(6.71) HD+ Display with 5000mAh(typ) Battery', 'Redmi A2 (Aqua Blue, 4GB RAM, 64GB Storage) | Powerful Octa Core G36 Processor | Upto 7GB RAM | Large 16.5 cm HD+ Display with Massive 5000mAh Battery | 2 Years Warranty [Limited time Offer]', 'Redmi 12C (Royal Blue, 4GB RAM, 128GB Storage)', 'realme narzo 50i Prime (Dark Blue 4GB RAM+64GB Storage) Octa-core Processor | 5000 mAh Battery', 'IKALL S1 Smartphone (6GB Ram + 6GB Virtual Ram, 128GB Internal Storage, Triple Camera) (Purple)', 'Lava Yuva 2 Pro (Glass Lavender, 4GB RAM, 64GB Storage)| 2.3 Ghz Octa Core Helio G37| 13 MP AI Triple Camera |Fingerprint Sensor| 5000 mAh Battery| Upto 7GB Expandable RAM', 'Vivo Y02t (Sunset Gold, 4GB RAM, 64GB Storage) with No Cost EMI/Additional Exchange Offers', 'Samsung Galaxy M04 Light Green, 4GB RAM, 128GB Storage | Upto 8GB RAM with RAM Plus | MediaTek Helio P35 Octa-core Processor | 5000 mAh Battery | 13MP Dual Camera', 'Redmi 12C (Mint Green, 4GB RAM, 64GB Storage) | High Performance Mediatek Helio G85 | Big 17cm(6.71) HD+ Display with 5000mAh(typ) Battery', 'realme narzo N53 (Feather Gold, 4GB+64GB) 33W Segment Fastest Charging | Slimmest Phone in Segment | 90 Hz Smooth Display', 'Nokia C22 | 3-Day Battery Life | 6GB RAM (4GB RAM + 2GB Virtual RAM) | 13 MP Dual Rear AI Camera with Night & Portrait Mode | IP52 | Purple', 'Redmi 11 Prime (Playful Green, 4GB RAM, 64GB Storage) | Prime Design | High Performance Helio G99 | 50 MP AI Triple Cam | 5000 mAh | 22.5W', 'realme narzo 50i Prime (Dark Blue 3 GB RAM +32 GB Storage) Octa-core Processor | 5000 mAh Battery', 'realme narzo N53 (Feather Black, 4GB+64GB) 33W Segment Fastest Charging | Slimmest Phone in Segment | 90 Hz Smooth Display', 'Itel A60s (4GB RAM + 64GB ROM, Up to 8GB RAM with Memory Fusion | 8MP AI Rear Camera | 5000mAh Battery with 10W Charging | Faceunlock & Fingerprint -Shadow Black', 'Lava Blaze 5G (Glass Blue, 4GB RAM, UFS 2.2 128GB Storage) | 5G Ready | 50MP AI Triple Camera | Upto 7GB Expandable RAM | Charger Included | Clean Android (No Bloatware)', 'Samsung Galaxy M34 5G (Waterfall Blue, 8GB, 128GB Storage) | 120Hz sAMOLED Display | 50MP Triple No Shake Cam | 6000 mAh Battery | 16GB RAM with RAM Plus | Android 13 | Without Charger', 'Itel A60s (4GB RAM + 64GB ROM, Up to 8GB RAM with Memory Fusion | 8MP AI Rear Camera | 5000mAh Battery with 10W Charging | Faceunlock & Fingerprint -Glacier Green', 'Nokia C12 Android 12 (Go Edition) Smartphone, All-Day Battery, 4GB RAM (2GB RAM + 2GB Virtual RAM) + 64GB Capacity | Light Mint', 'realme narzo 50i Prime (Mint Green 4GB RAM+64GB Storage) Octa-core Processor |5000 mAh Battery', 'Redmi A2+ (Aqua Blue, 4GB RAM, 64GB Storage) | Upto 7GB RAM | Octa Core Processor | Fingerprint Scanner | 2 Years Warranty [Limited time Offer]', 'TECNO Camon 19 Neo (Dreamland Green, 6GB RAM, 128GB Storage)|48MP Super Night Rear Camera|32MP Selfie Camera', 'realme narzo 50i (Carbon Black, 2GB RAM+32GB Storage) Octa Core Processor | 6.5\" inch Large Display', 'Redmi A2 (Classic Black, 4GB RAM, 64GB Storage) | Powerful Octa Core G36 Processor | Upto 7GB RAM | Large 16.5 cm HD+ Display with Massive 5000mAh Battery | 2 Years Warranty [Limited time Offer]', 'Nokia C22 | 3-Day Battery Life | 6GB RAM (4GB RAM + 2GB Virtual RAM) | 13 MP Dual Rear AI Camera with Night & Portrait Mode | IP52 | Sand', 'Redmi 9 Activ (Carbon Black, 4GB RAM, 64GB Storage) | Octa-core Helio G35 | 5000 mAh Battery', 'IKALL S1 Smartphone (6.8\" Display, 6GB, 128GB) | 6000 mAh Battery | Upto 12GB Ram with Virtual Ram (Purple)', 'Lava Yuva 2 Pro (Glass Green, 4GB RAM, 64GB Storage)| 2.3 Ghz Octa Core Helio G37| 13 MP AI Triple Camera |Fingerprint Sensor| 5000 mAh Battery| Upto 7GB Expandable RAM', 'Redmi 12C (Mint Green, 4GB RAM, 128GB Storage)', 'Redmi A2 (Sea Green, 4GB RAM, 64GB Storage) | Powerful Octa Core G36 Processor | Upto 7GB RAM | Large 16.5 cm HD+ Display with Massive 5000mAh Battery | 2 Years Warranty [Limited time Offer]', 'Nokia C22 | 3-Day Battery Life | 6GB RAM (4GB RAM + 2GB Virtual RAM) | 13 MP Dual Rear AI Camera with Night & Portrait Mode | IP52 | Charcoal', 'TECNO Spark 9 (Infinity Black, 4GB RAM,64GB Storage) | 7GB Expandable RAM | Helio G37 Gaming Processor', 'TECNO Spark 8 Pro (Interstellar Black, 4GB RAM,64GB Storage) | 48MP Triple Camera | 33W Fast Charger', 'Lava Blaze 2 (6GB RAM, 128GB Storage) - Glass Blue | 18W Fast Charging | 6.5 inch 90Hz Punch Hole Display | Side Fingerprint Sensor | Upto 11GB Expandable RAM | 5000 mAh Battery', 'Samsung Galaxy M04 Light Green, 4GB RAM, 64GB Storage | Upto 8GB RAM with RAM Plus | MediaTek Helio P35 Octa-core Processor | 5000 mAh Battery | 13MP Dual Camera', 'Samsung Galaxy M04 Dark Blue, 4GB RAM, 64GB Storage | Upto 8GB RAM with RAM Plus | MediaTek Helio P35 Octa-core Processor | 5000 mAh Battery | 13MP Dual Camera', 'TECNO Phantom V Fold 5G Black (12GB RAM,256GB Storage) | The First Full Size Fold | LTPO AMOLED Display | 4nm D9000+ Fast Processor', 'IKALL S1 Smartphone (6.8 Inch, 6GB, 128GB) (Triple Rear Camera) (Blue)', 'IKALL S1 Smartphone (6.8\" Display, 6GB, 128GB) | 6000 mAh Battery | Upto 12GB Ram with Virtual Ram (Blue)', 'Itel A60s (4GB RAM + 64GB ROM, Up to 8GB RAM with Memory Fusion | 8MP AI Rear Camera | 5000mAh Battery with 10W Charging | Faceunlock & Fingerprint - Moonlit Violet', 'realme narzo 50i (Carbon Black, 4GB RAM+64GB Storage) Octa Core Processor | 6.5\" inch Large Display', 'Itel S23 (8GB RAM + 128GB ROM, Up to 16GB RAM with Memory Fusion | 50MP AI Dual Rear Camera | 5000mAh Battery with Type-C Charging | 90 Hz Display) - Mystery White', 'Nokia C12 Pro Android Smartphone, Dual SIM, All Day Battery Life, 6GB RAM, 4GB RAM + 2GB Virtual RAM, Android 12 Go Edition | Charcoal', 'Vivo Y02t (Cosmic Grey, 4GB RAM, 64GB Storage) with No Cost EMI/Additional Exchange Offers', 'Redmi New 3 (Light Blue, 2GB RAM, 32GB Storage)', 'Redmi A2 (Aqua Blue, 2GB RAM, 64GB Storage)', 'Redmi 10A (Charcoal Black, 4GB RAM, 64GB Storage) | 2 Ghz Octa Core Helio G25 | 5000 mAh Battery | Finger Print Sensor | Upto 5GB RAM with RAM Booster', 'Itel A60s (4GB RAM + 64GB ROM, Up to 8GB RAM with Memory Fusion | 8MP AI Rear Camera | 5000mAh Battery with 10W Charging | Faceunlock & Fingerprint -Glacier Green', 'Nokia C32 with 50MP Dual Rear AI Camera | Toughened Glass Back | 4GB RAM, 128GB Storage | Upto 7GB RAM with RAM Extension | 5000 mAh Battery | 1 Year Replacement Warranty | Android 13 | Pink', 'Redmi A2 (Classic Black, 2GB RAM, 64GB Storage)', 'Nokia C12 Android 12 (Go Edition) Smartphone, All-Day Battery, 4GB RAM (2GB RAM + 2GB Virtual RAM) + 64GB Capacity | Charcoal', 'Nokia C12 Android 12 (Go Edition) Smartphone, All-Day Battery, 4GB RAM (2GB RAM + 2GB Virtual RAM) + 64GB Capacity | Dark Cyan', 'TECNO Spark 8T (Atlantic Blue, 4GB RAM,64GB Storage)| 50MP AI Camera | 7GB Expandable RAM', 'Redmi 12C (Lavender Purple, 4GB RAM, 128GB Storage)', 'Itel A60s (4GB RAM + 64GB ROM, Up to 8GB RAM with Memory Fusion | 8MP AI Rear Camera | 5000mAh Battery with 10W Charging | Faceunlock & Fingerprint - Moonlit Violet', 'Itel S23 (8GB RAM + 128GB ROM, Up to 16GB RAM with Memory Fusion | 50MP AI Dual Rear Camera | 5000mAh Battery with Type-C Charging | 90 Hz Display) - Starry Black', 'Lava Blaze 2 (6GB RAM, 128GB Storage) - Glass Orange | 18W Fast Charging | 6.5 inch 90Hz Punch Hole Display | Side Fingerprint Sensor | Upto 11GB Expandable RAM | 5000 mAh Battery', 'Itel A60s (4GB RAM + 64GB ROM, Up to 8GB RAM with Memory Fusion | 8MP AI Rear Camera | 5000mAh Battery with 10W Charging | Faceunlock & Fingerprint -Shadow Black', 'Lava Yuva 2 Pro (Glass Lavender, 4GB RAM, 64GB Storage)| 2.3 Ghz Octa Core Helio G37| 13 MP AI Triple Camera |Fingerprint Sensor| 5000 mAh Battery| Upto 7GB Expandable RAM', 'TECNO Spark 9T (Iris Purple, 4GB RAM,64GB Storage) | 50MP SuperNight Triple Camera | 18W Flash Charger', 'Redmi A2 (Classic Black, 2GB RAM, 32GB Storage) | Powerful Octa Core G36 Processor | Upto 7GB RAM | Large 16.5 cm HD+ Display with Massive 5000mAh Battery | 2 Years Warranty [Limited time Offer]', 'Oppo A17k (Navy Blue, 3GB RAM, 64GB Storage) with No Cost EMI/Additional Exchange Offers', 'Redmi 9 (Sky Blue, 4GB RAM, 64GB Storage) | 2.3GHz Mediatek Helio G35 Octa core Processor', 'Motorola E7 Power (Tahiti Blue, 64 GB) (4 GB RAM)', '(Renewed) Itel S23 (8GB RAM + 128GB ROM, Up to 16GB RAM with Memory Fusion | 50MP AI Dual Rear Camera | 5000mAh Battery with Type-C Charging | 90 Hz Display) - Mystery White', 'Redmi A2 (Sea Green, 2GB RAM, 64GB Storage)', 'Nokia C32 with 50MP Dual Rear AI Camera | Toughened Glass Back | 4GB RAM, 128GB Storage | Upto 7GB RAM with RAM Extension | 5000 mAh Battery | 1 Year Replacement Warranty | Android 13 | Mint', 'Samsung Galaxy A04e (Copper, 3GB, 64GB Storage) | 13 MP Rear Camera| Face Unlock | Upto 7GB RAM with RAM Plus | MediaTek Helio P35 | 5000 mAh Battery', 'Nokia 2660 Flip 4G Volte keypad Phone with Dual SIM, Dual Screen, inbuilt MP3 Player & Wireless FM Radio | Black', 'Itel P40+ (4GB RAM+128GB ROM, 8GB* RAM with Memory Fusion | 13MP AI Rear Camera | 7000mAh Battery with 18W Fast Charging | 6.8\" HD+ IPS Punch Hole 90Hz Diplay | Faceunlock & Fingerprint - Ice Cyan', 'Redmi 11 Prime (Flashy Black, 4GB RAM, 64GB Storage) | Prime Design | High Performance Helio G99 | 50 MP AI Triple Cam | 5000 mAh | 22.5W', 'Nokia C12 Pro Android Smartphone, Dual SIM, All Day Battery Life, 4GB RAM, 2GB RAM + 2GB Virtual RAM, Android 12 Go Edition | Mint', 'TECNO Spark 10C (Meta Blue,8GB RAM,128GB Storage)|16GB Expandable RAM |90Hz Refresh Rate 6.56\" HD+Dot Display|16MP AI Dual Rear Camera', 'Samsung Galaxy A04e (Light Blue, 3GB, 64GB Storage) | 13 MP Rear Camera | Face Unlock | Upto 7GB RAM with RAM Plus | MediaTek Helio P35 | 5000 mAh Battery', 'Redmi 12C (Matte Black, 4GB RAM, 64GB Storage) | High Performance Mediatek Helio G85 | Big 17cm(6.71) HD+ Display with 5000mAh(typ) Battery', 'IKALL Z3 Smartphone (6.26 Inch, 4GB, 64GB) (Aquamarine)', 'Nokia C22 | 3-Day Battery Life | 4GB RAM (2GB RAM + 2GB Virtual RAM) | 13 MP Dual Rear AI Camera with Night & Portrait Mode | IP52 | Charcoal', 'Infinix HOT 30i (Mirror Black, 8GB RAM 128GB Storage)', 'Nokia 2.1 (Blue-Copper)', 'IKALL Z1 4G Smartphone with 5.5 Inch IPS Display (Dual SIM, 3GB RAM + 32GB Storage) (Grey)', 'Nokia C32 with 50MP Dual Rear AI Camera | Toughened Glass Back | 4GB RAM, 128GB Storage | Upto 7GB RAM with RAM Extension | 5000 mAh Battery | 1 Year Replacement Warranty | Android 13 | Charcoal', 'Nokia C22 | 3-Day Battery Life | 4GB RAM (2GB RAM + 2GB Virtual RAM) | 13 MP Dual Rear AI Camera with Night & Portrait Mode | IP52 | Purple', 'Nokia C22 | 3-Day Battery Life | 4GB RAM (2GB RAM + 2GB Virtual RAM) | 13 MP Dual Rear AI Camera with Night & Portrait Mode | IP52 | Sand', 'Lava Blaze 2 (6 GB RAM, UFS 2.2 128GB Storage) - Glass Black|18W Fast Charger|Side Fingerprint Sensor| 5000 mAh Battery| 6.5 inch(16.5cm) HD+ Punch Hole Display| Upto 11GB Expandable RAM', 'Motorola e40 (Carbon Gray, 4GB RAM 64GB Storage)', 'Redmi 9A (Nature Green, 2GB RAM, 32GB Storage) | 2GHz Octa-core Helio G25 Processor | 5000 mAh Battery', 'Itel P40 (6000mAh Battery with Fast Charging | 2GB RAM + 64GB ROM, Up to 4GB RAM with Memory Fusion | Octa-core Processor | 13MP AI Dual Rear Camera) - Dreamy Blue', 'Itel P40+ (4GB RAM+128GB ROM, 8GB* RAM with Memory Fusion | 13MP AI Rear Camera | 7000mAh Battery with 18W Fast Charging | 6.8\" HD+ IPS Punch Hole 90Hz Diplay | Faceunlock & Fingerprint - Force Black', 'Samsung Galaxy M34 5G (Midnight Blue, 8GB, 128GB Storage) | 120Hz sAMOLED Display | 50MP Triple No Shake Cam | 6000 mAh Battery | 16GB RAM with RAM Plus | Android 13 | Without Charger', 'IKALL Z19 Pro Smartphone (6.5\" HD+ Display, 4GB, 64GB) (Champagne)', 'IKALL S1 Smartphone (6.8\" Display, 6GB, 128GB) | 6000 mAh Battery | Upto 12GB Ram with Virtual Ram (Blue)', 'TECNO POP 7 Pro (Endless Black, 2GB RAM,64GB Storage) | Type C Port | 12MP Dual Camera | Up to 4GB RAM with Memory Fusion', 'Micromax in 2C (Silver, 32 GB)  (3 GB RAM)', 'Nokia G11 Android 12 Smartphone, Dual SIM, 3-Day Battery Life, 4GB RAM + 64GB Storage, 50MP Dual AI Camera | Charcoal Grey', 'Redmi 9A Sport (Carbon Black, 2GB RAM, 32GB Storage) | 2GHz Octa-core Helio G25 Processor | 5000 mAh Battery', 'Redmi A2+ (Classic Black, 4GB RAM, 64GB Storage) | Upto 7GB RAM | Octa Core Processor | Fingerprint Scanner | 2 Years Warranty [Limited time Offer]', '(Renewed) Nokia C12 Android 12 (Go Edition) Smartphone, All-Day Battery, 4GB RAM (2GB RAM + 2GB Virtual RAM) + 64GB Capacity | Light Mint', 'Itel P40 (6000mAh Battery with Fast Charging | 2GB RAM + 64GB ROM, Up to 4GB RAM with Memory Fusion | Octa-core Processor | 13MP AI Dual Rear Camera) - Luxurious Gold', 'Oppo A17k (Blue, 3GB RAM, 64GB Storage) with No Cost EMI/Additional Exchange Offers', 'IKALL Z1 4G Smartphone with 5.5 Inch IPS Display (Dual SIM, 3GB RAM + 32GB Storage) (Blue)', 'realme narzo 50i (Mint Green, 2GB RAM+32GB Storage) Octa Core Processor | 6.5\" inch Large Display', 'Nokia C01 Plus 4G, 5.45” HD+ Screen, Selfie Camera with Front Flash | 32GB Storage (Blue)', 'TECNO Camon 19 Neo (Ice Mirror, 6GB RAM, 128GB Storage)|48MP Super Night Rear Camera|32MP Selfie Camera', 'Nokia C12 Pro Android Smartphone, Dual SIM, All Day Battery Life, 6GB RAM, 4GB RAM + 2GB Virtual RAM, Android 12 Go Edition | Purple', 'Redmi A2+ (Sea Green, 4GB RAM, 64GB Storage) | Upto 7GB RAM | Octa Core Processor | Fingerprint Scanner | 2 Years Warranty [Limited time Offer]', 'IKALL Z19 Pro Ultra Smartphone (6GB, 128GB) | 6.5 Inch HD+ Display | Fast Charging (Blue)', 'Lava X2 (2GB RAM, 32GB Storage) - Striped Blue| Long Lasting 5000 mAh Battery| High Performance Octa Core Processor| Big 6.5 inch(16.5cm) Display HD+IPS Notch Display', 'Redmi 12C (Royal Blue, 4GB RAM, 64GB Storage) | High Performance Mediatek Helio G85 | Big 17cm(6.71) HD+ Display with 5000mAh(typ) Battery', 'SHIVANSH LYF Water 7S (3GB RAM, 16 GB Storage) 4G4G Smartphone for JIO All 4G SIM Support(Color Depend on Stock)', 'realme C11(2021) (Cool Grey, 2GB RAM, 32GB Storage) Without Offers', 'POCO C55 (Forest Green, 128 GB) (6 GB RAM)', 'Itel P40 (6000mAh Battery with Fast Charging | 2GB RAM + 64GB ROM, Up to 4GB RAM with Memory Fusion | Octa-core Processor | 13MP AI Dual Rear Camera) - Force Black', '(Renewed) Redmi 12C (Royal Blue, 4GB RAM, 64GB Storage) | High Performance Mediatek Helio G85 | Big 17cm(6.71) HD+ Display with 5000mAh(typ) Battery', '(Renewed) Nokia C12 Pro Android Smartphone, Dual SIM, All Day Battery Life, 6GB RAM, 4GB RAM + 2GB Virtual RAM, Android 12 Go Edition | Charcoal', 'POCO C50 (Royal Blue, 32 GB)  (2 GB RAM)', 'IKALL Z2 Smartphone (6.26 Inch HD+ Display, 4GB, 64GB) (Aquamarine)', 'Lava X2 (2GB RAM, 32GB Storage) - Striped Cyan| Long Lasting 5000 mAh Battery| High Performance Octa Core Processor| Big 6.5 inch(16.5cm) Display HD+IPS Notch Display', 'IKALL S1 Smartphone (6GB Ram + 6GB Virtual Ram, 128GB Internal Storage, Triple Camera) (Purple)', 'IKALL K470 Smartphone (6.26\" HD+ Display, 4GB, 64GB) (Sky Blue)', 'Anik MOTOROLA4g E22s (Eco Black, 4GB RAM, 64GB Storage)', '(Renewed) Nokia C12 Android 12 (Go Edition) Smartphone, All-Day Battery, 4GB RAM (2GB RAM + 2GB Virtual RAM) + 64GB Capacity | Dark Cyan', 'IKALL Z18 Smartphone (6.5 HD Display, 6GB Ram, 128GB Storage) (Champagne)', 'Infinix HOT 30i (Glacier Blue, 8GB RAM 128GB Storage)', 'Nokia C12 Pro Android Smartphone, Dual SIM, All Day Battery Life, 4GB RAM, 2GB RAM + 2GB Virtual RAM, Android 12 Go Edition | Charcoal', 'MI Poco M2 Pro (Out of The Blue, 4GB RAM, 64GB Storage)', 'Motorola 4g E22s (Eco Black, 4GB RAM, 64GB Storage)', 'IKALL Z12 4G Smartphone with 4GB RAM, 64 Internal Memory (6.53 Inch HD+ Display) (Jude Green)', 'IKALL S1 Smartphone (6.8\" Display, 6GB, 128GB) | 6000 mAh Battery | Upto 12GB Ram with Virtual Ram (Purple)', 'Infinix Hot 12 Pro (Halo White, 6GB RAM 64GB Storage)', 'TECNO Spark 9T (Atlantic Blue, 4GB RAM,64GB Storage) | 50MP SuperNight Triple Camera | 18W Flash Charger', 'Poco C51 (Power Black, 64 GB) (4 GB RAM)', '(Renewed) Realme Narzo 50i Prime (Dark Blue,3GB RAM, 32GB Storage)', 'Nokia C31, 6.74” HD+ Display, 13+2+2 MP Rear & 5MP Front Google Camera, 3-Day Battery Life, Android 12 | Mint, 4+64GB', 'Poco C51 (Royal Blue, 64 GB) (4 GB RAM)', 'Micromax in 2B (Blue, 4GB RAM, 64GB Storage)', '(Renewed) OnePlus 6 (Mirror Black, 6GB RAM,64GB)', 'Nokia C12 Pro Android Smartphone, Dual SIM, All Day Battery Life, 6GB RAM, 4GB RAM + 2GB Virtual RAM, Android 12 Go Edition | Mint', 'IKALL K450 Smartphone (6.26\" Display, 4GB, 64GB, Android 10) (Dark Blue)', 'Infinix Hot 12 Pro (Electric Blue, 6GB RAM 64GB Storage)', 'Nokia C12 Pro Android Smartphone, Dual SIM, All Day Battery Life, 4GB RAM, 2GB RAM + 2GB Virtual RAM, Android 12 Go Edition | Cyan', 'IKALL K450 Smartphone (6.26\" Display, 4GB, 64GB, Android 10) (Cyan)', 'Infinix HOT 30i (Glacier Blue, 8GB RAM 128GB Storage)', 'jio Phone Next | jio Smartphone | jio Mobile | jiophone Next | jio Smart Phone | 2GB RAM 32GB ROM', '(Renewed) realme narzo 50i (Mint Green, 2GB RAM+32GB Storage) - 6.5\" inch Large Display | 5000mAh Ba', 'IKALL Z19 Pro Ultra Smartphone (6.5 Inch HD+ Display, 6GB, 128GB) (Gold)', 'Lava Yuva 2 Pro (Glass Green, 4GB RAM, 64GB Storage)| 2.3 Ghz Octa Core Helio G37| 13 MP AI Triple Camera |Fingerprint Sensor| 5000 mAh Battery| Upto 7GB Expandable RAM', 'Nokia C21 Plus Android Smartphone, Dual SIM, 3-Day Battery Life, 4GB RAM + 64GB Storage, 13MP Dual Camera with HDR | Warm Grey', 'JioFi Jio Phone Next 32 GB ROM, 2 GB RAM, Blue, Smartphone', 'Itel A60 (6.6 inch HD+ IPS Waterdrop Display | 5000mAh Battery | Fingerprint Sensor) - Dawn Blue', '(Renewed) realme narzo 50i (Carbon Black, 4GB RAM+64GB Storage) - 6.5\" inch Large Display | 5000mAh', '(Renewed) Nokia C21 Plus Android Smartphone, Dual SIM, 3-Day Battery Life, 4GB RAM + 64GB Storage, 1', 'Infinix Smart 7 (64 GB) (4 GB RAM) (Azure Blue)', 'IKALL Z14 4G Smartphone with 6.82 Inch HD+ Display (Android 10.0, 4GB RAM + 64GB Storage) (Grey)', '(Renewed) Lava Blaze 2 (6GB RAM, 128GB Storage) - Glass Blue | 18W Fast Charging | 6.5 inch 90Hz Pun', '(Renewed) Nokia C12 Android 12 (Go Edition) Smartphone, All-Day Battery, 4GB RAM (2GB RAM + 2GB Virt', 'POCO C55 (Power Black, 128 GB) (6 GB RAM)', 'Maplin Model Moto-E4 (Imported) 3GB / 32 GB with 13 Mpx Rear Camera and 5 Mpx Front Camera with 5000 mAh Battery (Gold)', 'POCO C55 (Cool Blue, 64 GB) (4 GB RAM)', 'IKALL Z10 4G Smartphone with 6.53 Inch HD+ Display (4GB RAM, 64GB Stoarge) (Grey)', 'I KALL Z19 Pro Smartphone (6.5\" HD+ Display, 4GB, 64GB) (Blue)', 'IKALL Z19 Pro Smartphone (6.5\" HD+ Display, 4GB. 64GB) (Octa Core 1.6 Ghz Processor)', 'Poco C51 16.56 cm (6.52 inch) HD+Display 8MP Rear Camera | 5MP Front Camera | Helio G36 Processor | Memory Expandable Upto 1TB | 5000 mAh Battery (64,Power Black,4GB)', 'IKALL Z15 4G Smartphone with 6.82 Inch HD+ Display (4GB RAM, 64GB Storage) (Sky Blue)', 'Lava Z3 Striped Blue (3GB RAM, 32GB Storage)', '(Renewed) Nokia G11 Android 12 Smartphone, Dual SIM, 3-Day Battery Life, 4GB RAM + 64GB Storage, 50M', 'TECNO Spark 10C (Meta Black,8GB RAM,128GB Storage)|16GB Expandable RAM |90Hz Refresh Rate 6.56\" HD+Dot Display|16MP AI Dual Rear Camera', 'IKALL Z11 4G Smartphone with 6.53 Inch HD+ Display (4GB RAM, Android 10.0) (Cyan)', 'Infinix HOT 30i | 5000 mAh Battery | 50MP AI Camera | 90Hz Refresh Rate | Fingerprint Sensor | Dual Sim (Glacier Blue, 8GB RAM 128GB Storage)', 'Micromax in 2C (Brown, 32 GB)  (3 GB RAM)']\n"
     ]
    }
   ],
   "source": [
    "print(scraped_data)"
   ]
  },
  {
   "cell_type": "code",
   "execution_count": null,
   "id": "0d09b036",
   "metadata": {},
   "outputs": [],
   "source": []
  }
 ],
 "metadata": {
  "kernelspec": {
   "display_name": "Python 3 (ipykernel)",
   "language": "python",
   "name": "python3"
  },
  "language_info": {
   "codemirror_mode": {
    "name": "ipython",
    "version": 3
   },
   "file_extension": ".py",
   "mimetype": "text/x-python",
   "name": "python",
   "nbconvert_exporter": "python",
   "pygments_lexer": "ipython3",
   "version": "3.9.13"
  },
  "nbTranslate": {
   "displayLangs": [
    "*"
   ],
   "hotkey": "alt-t",
   "langInMainMenu": true,
   "sourceLang": "en",
   "targetLang": "fr",
   "useGoogleTranslate": true
  }
 },
 "nbformat": 4,
 "nbformat_minor": 5
}
